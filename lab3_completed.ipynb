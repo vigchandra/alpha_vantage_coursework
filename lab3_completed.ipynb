{
 "cells": [
  {
   "cell_type": "markdown",
   "metadata": {},
   "source": [
    "# DSCI 525 - Lab 3: Amazon Web Services - Part 1/2\n",
    "\n",
    "## Submission Instructions (10% of your lab here - read it!)\n",
    "rubric={mechanics:10}\n",
    "- [Follow the general lab instructions](https://ubc-mds.github.io/resources_pages/general_lab_instructions/)\n",
    "- The sum of all non-optional rubrics is 100. So it is easy for you to know how much of your lab a question is worth.\n",
    "----"
   ]
  },
  {
   "cell_type": "markdown",
   "metadata": {},
   "source": [
    "## Table of Contents\n",
    "\n",
    "- [1. Intro](#1.-Intro)\n",
    "  - [Exercise 1 - Connecting to AWS MDS Organization](#Exercise-1---Connecting-to-AWS-MDS-Organization) -- 5\\% -- {mechanics:5}\n",
    "- [2. Amazon Elastic Compute Cloud (Amazon EC2)](#2.-Amazon-Elastic-Compute-Cloud-(Amazon-EC2))\n",
    "  - [Exercise 2.1](#Exercise-2.1---Launching-an-EC2-instance-from-AWS-Console) -- 20\\% -- {mechanics:20}\n",
    "  - [Exercise 2.2](#Exercise-2.2---SSH)\n",
    "    - [Exercise 2.2.1](#Exercise-2.2.1---pip-and-some-packages) -- 5\\% -- {mechanics:5}\n",
    "    - [Exercise 2.2.2](#Exercise-2.2.2---R) -- 5\\% -- {mechanics:5}\n",
    "  - [Exercise 2.3](#Exercise-2.3---Amazon-Machine-Images-(AMI))\n",
    "    - [Exercise 2.3.1](#Exercise-2.3.1) -- 5\\% -- {mechanics:5}\n",
    "    - [Exercise 2.3.2](#Exercise-2.3.2) -- 10\\% -- {mechanics:10}\n",
    "  - [Exercise 2.4 (Optional)](#Exercise-2.4-(Optional)---Interacting-with-EC2-through-AWS-CLI)\n",
    "    - [Exercise 2.4.1 (Optional)](#Exercise-2.4.1-(Optional))\n",
    "    - [Exercise 2.4.2 (Optional)](#Exercise-2.4.2-(Optional))\n",
    "    - [Exercise 2.4.3 (Optional)](#Exercise-2.4.3-(Optional))\n",
    "    - [Exercise 2.4.4 (Optional)](#Exercise-2.4.4-(Optional))\n",
    "  - [Exercise 2.5](#Exercise-2.5-(Optional)---Interacting-with-EC2-through-AWS-Python-SDK)\n",
    "    - [Exercise 2.5.1 (Optional)](#Exercise-2.5.1-(Optional))\n",
    "    - [Exercise 2.5.2 (Optional)](#Exercise-2.5.2-(Optional))\n",
    "    - [Exercise 2.5.3 (Optional)](#Exercise-2.5.3-(Optional))\n",
    "    - [Exercise 2.5.4 (Optional)](#Exercise-2.5.4-(Optional))\n",
    "  - [Exercise 3](#Exercise-3---Amazon-Simple-Storage-Service-(Amazon-S3))\n",
    "    - [Exercise 3.1](#Exercise-3.1) -- 10\\% -- {mechanics:10}\n",
    "    - [Exercise 3.2](#Exercise-3.2) -- 5\\% -- {mechanics:5}\n",
    "    - [Exercise 3.3](#Exercise-3.3)\n",
    "      - [Exercise 3.3.1](#Exercise-3.3.1) -- 10\\% -- {mechanics:10}\n",
    "      - [Exercise 3.3.2](#Exercise-3.3.2) -- 10\\% -- {mechanics:10}\n",
    "  - [Exercise 4](#Exercise-4---Removing-unused-resources) -- 5\\% -- {mechanics:5}"
   ]
  },
  {
   "cell_type": "markdown",
   "metadata": {},
   "source": [
    "# 1. Intro\n",
    "\n",
    "In this lab you will be called to interact programmatically with Amazon's cloud platform. The choice of the platform is to a certain extent arbitrary (many competitors offer similar services), yet AWS still seems to be a standard goto in many companies. Apple, for example, [spends 30 million per month on AWS](https://www.cnbc.com/2019/04/22/apple-spends-more-than-30-million-on-amazon-web-services-a-month.html). Alternatively, there is [Microsoft Azure](https://azure.microsoft.com/en-ca/), which is growing in a quite fast pace. There's also [Google Cloud](https://cloud.google.com/) More importantly, the skills that you will acquire in dealing with AWS are also useful when approaching the alternatives. \n",
    "\n",
    "This lab is to prepare you to interact with AWS, like creating and configuring resources. Next week we will be focused on using these resources (that you'll know how to create) to actually do heavy computation for us. There are many things I want to touch base in this lab:\n",
    "- Using AWS console;\n",
    "- Using AWS CLI;\n",
    "- Using AWS sdk for Python;\n",
    "However, we have limited time, and the stress level is already quite high. I get it! So, I'll make some of this stuff optional. If you have time, and are willing to explore, go ahead. I will assist you in all optional questions as well, so you don't miss anything. If you don't have time or decide not to do it for whatever reason, it is totally fine too, and you can explore this in the future. \n",
    "\n",
    "Some extra resources:\n",
    "- [Datacamp tutorial](https://www.datacamp.com/community/tutorials/aws-ec2-beginner-tutorial).\n",
    "- If you have a couple hours, you can watch [this video](https://www.youtube.com/watch?v=IFdBD3YdLJc&feature=youtu.be) which is a great introductory lecture."
   ]
  },
  {
   "cell_type": "markdown",
   "metadata": {},
   "source": [
    "### Exercise 1 - Connecting to AWS MDS Organization\n",
    "rubric={mechanics:5}"
   ]
  },
  {
   "cell_type": "markdown",
   "metadata": {},
   "source": [
    "In your home repository on Github Enterprise, there's an open issue with your username and password for the AWS MDS Organization. Use those credentials to log into [AWS Management Console](https://console.aws.amazon.com/). To show that you succeed, take a screenshot of the top bar (the blue bar on the very top of the page) that has your username. You will be required to create a new password. Replace my screenshot below with your own. "
   ]
  },
  {
   "cell_type": "markdown",
   "metadata": {},
   "source": [
    "<img src=\"images/q_1_1.PNG\"/>"
   ]
  },
  {
   "cell_type": "markdown",
   "metadata": {},
   "source": [
    "## 2. Amazon Elastic Compute Cloud (Amazon EC2)\n",
    "\n",
    "Amazon EC2 is a service that provides compute power in the cloud. It is like renting one of Amazon's computers, which can be much more powerful than your laptop or home computer. I said \"can\" because you get to choose how \"powerful\" the computer that you want. Of course, the more powerful, the more expensive.\n",
    "\n",
    "In this part of the lab, we are going to explore how to create an EC2 instance, install the software that you need, and change the size of the instance. "
   ]
  },
  {
   "cell_type": "code",
   "execution_count": 1,
   "metadata": {},
   "outputs": [
    {
     "data": {
      "text/plain": [
       "1586987177.0653212"
      ]
     },
     "execution_count": 1,
     "metadata": {},
     "output_type": "execute_result"
    }
   ],
   "source": [
    "import time\n",
    "t = time.time()\n",
    "t"
   ]
  },
  {
   "cell_type": "markdown",
   "metadata": {},
   "source": [
    "### Exercise 2.1 - Launching an EC2 instance from AWS Console\n",
    "rubric={mechanics:20}\n",
    "\n",
    "Log into your AWS Management Console and search for EC2. Record how long the following process will take:\n",
    "\n",
    "1. Click on the button `Launch Instance` button;\n",
    "2. Next, you need to choose an `Amazon Machine Image` (AMI). Note that there are many `AMI` options for you, of different systems. You are going to create your own later in the lab. For now, pick `Ubuntu Server 18.04 LTS`.\n",
    "3. The next step is to choose the `Instance Type`. This is where you specify how powerful you want your instance to be. Take a look at the `vCPUS` column and `Memory (GiB)` column. There are some quite powerful options. For example, `x1e.32xlarge` has 128 vCPUS and 3904 GiB of memory. Nice right? What is not very nice is the price of this machine. Take a look [here](https://aws.amazon.com/ec2/pricing/on-demand/) - the `x1e.32xlarge` costs USD $26.688 per hour. For this exercise `t2.small` is enough. But if this doesn't make you happy, don't worry, we are going to play with more powerful instances eventually.\n",
    "4. You don't need to change anything in `Configure Instance Details`. Just move ahead to `Add Storage`.\n",
    "5. Nothing here either, go to `Next: Add Tags`.\n",
    "6. In many AWS resources, you are able to add tags with metadata. One usage of metadata is for creating policy. In fact, we have a policy in place. You will only be allowed to create instances if you create a tag with `Key = Owner` and `Value` your username (see the top blue bar on the right). Go ahead, create the tag. Click on `Next: Configure Security Group`.\n",
    "7. You are not allowed to create new security groups. So select the option `Select an existing security group`, then select the security group that will appear. \n",
    "8. Click `Review and Launch`. Then, `Launch`.\n",
    "9. You will be prompted to `Select an existing key pair or create a new key pair`. Remember, this computer will is located in Amazon's facilities. You will access it remotely. This is your way in. If you choose `Proceed without a key pair` there will be a warning saying that you won't be able to connect to the instance. Create a new key pair and download it.\n",
    "10. You did it!!! Now, launch the instance!! Then `View Instances`. \n",
    "\n",
    "It can take a minute for the instance to fire up. You can check the instance state (sometimes you need to refresh the browser to update the state). Now, you might see a bunch of instances in there. it is because you can see the instances your colleagues launched. Not to worry, remember the tag you created? You can filter the instances by tag in the search bar.\n",
    "\n",
    "Take a screenshot that will include your `username`, the `instance state` and the `Tag` you created. Replace my screenshot below with yours."
   ]
  },
  {
   "cell_type": "markdown",
   "metadata": {},
   "source": [
    "<img src=\"images/q2_1.PNG\"/> "
   ]
  },
  {
   "cell_type": "markdown",
   "metadata": {},
   "source": [
    "### Exercise 2.2 - SSH\n",
    "\n",
    "Great job on creating your `EC2` instance. This will only be useful to you if you can connect to it. In this exercise, you are going to connect to the instance. If you right-click on the instance, you will see a `connect` option. There are a few options for connecting, here we are going to use `a standalone SSH client`. To SSH into the instance, you are going to need the `.pem` file, which is the file you downloaded when you created new keys. The thing is, AWS is strict about his file. It must be only readable to you (for security). On Linux/Mac OS, you can just `chmod 400 file-name.pem` (on Windows, right-click the file -> Properties -> Security -> Advanced -> Disable Inheritance -> Make the permissions explicit -> Remove everybody and leave only your username with access to the file.)\n",
    "\n",
    "Finally, open Bash/Powershell and run the command AWS give you as an example. Congratulations!! You are inside your brand new computer. Let's install a few things now. But first, update your system. You can update Ubuntu with one line:\n",
    "```bash\n",
    "sudo apt-get update; sudo apt-get upgrade\n",
    "```"
   ]
  },
  {
   "cell_type": "markdown",
   "metadata": {},
   "source": [
    "#### Exercise 2.2.1 - `pip` and some packages\n",
    "rubric={mechanics:5}\n",
    "\n",
    "The newer versions of Ubuntu, like 18.04 already comes with Python 3 installed. This is good news. But we don't have `pip` to install packages. Let's install pip in the instance. Then, install the following packages: \n",
    "\n",
    "1. `requests`\n",
    "2. `numpy`\n",
    "3. `pandas`\n",
    "\n",
    "(Hint: you can install pip3 with `sudo apt install python3-pip`).\n",
    "\n",
    "Replace my screenshot below with your own."
   ]
  },
  {
   "cell_type": "markdown",
   "metadata": {},
   "source": [
    "![](images/q_2_2_1_replace.PNG)"
   ]
  },
  {
   "cell_type": "markdown",
   "metadata": {},
   "source": [
    "#### Exercise 2.2.2 - R\n",
    "rubric={mechanics:5}\n",
    "\n",
    "Next, let's install R and the `tidyverse` package. To see how to install `R` on Ubuntu, check out the [MDS installation instructions](https://ubc-mds.github.io/resources_pages/install_ds_stack_ubuntu/#r-irkernel-and-rstudio). Then, install the `tidyverse` meta-package.  This takes a while, keep your clock running (you're still recording the time, right?). Replace the screenshot below with your own. "
   ]
  },
  {
   "cell_type": "markdown",
   "metadata": {},
   "source": [
    "![](images/q_2_2_2_replace.PNG)"
   ]
  },
  {
   "cell_type": "markdown",
   "metadata": {},
   "source": [
    "#### Exercise 2.2.3 - [AWS Command Line Interface (CLI)](https://docs.aws.amazon.com/cli/index.html)\n",
    "rubric={mechanics:5}\n",
    "\n",
    "AWS CLI allows you to use the Bash/Terminal/Powershell to interact with AWS. We are going to explore this later in the lab. For now, let's just install the needed software. To install on Ubuntu, you can run:\n",
    "\n",
    "```\n",
    "curl \"https://awscli.amazonaws.com/awscli-exe-linux-x86_64.zip\" -o \"awscliv2.zip\"\n",
    "unzip awscliv2.zip\n",
    "sudo ./aws/install\n",
    "```"
   ]
  },
  {
   "cell_type": "markdown",
   "metadata": {},
   "source": [
    "Next, let's configure AWS CLI. You probably want to take a look at this [Configuring AWS CLI page](https://docs.aws.amazon.com/cli/latest/userguide/cli-chap-configure.html).\n",
    "\n",
    "Replace the screenshot below with yours to show that you successfully installed AWS CLI."
   ]
  },
  {
   "cell_type": "markdown",
   "metadata": {},
   "source": [
    "![](images/q_2_2_3.PNG)"
   ]
  },
  {
   "cell_type": "markdown",
   "metadata": {},
   "source": [
    "### Exercise 2.3 - [Amazon Machine Images (AMI)](https://docs.aws.amazon.com/AWSEC2/latest/UserGuide/AMIs.html)\n",
    "\n",
    "How long did it take for you to get your instance to this point?\n",
    "In this exercise, you are going to speed things up by saving computing environments through `AMI`."
   ]
  },
  {
   "cell_type": "code",
   "execution_count": 2,
   "metadata": {},
   "outputs": [
    {
     "data": {
      "text/plain": [
       "3189.5952608585358"
      ]
     },
     "execution_count": 2,
     "metadata": {},
     "output_type": "execute_result"
    }
   ],
   "source": [
    "time.time()-t"
   ]
  },
  {
   "cell_type": "markdown",
   "metadata": {},
   "source": [
    "#### Exercise 2.3.1\n",
    "rubric={mechanics:5}\n",
    "\n",
    "Make an AMI based on your instance.  Name your AMI with the following pattern \"mds-ami-username\", where \"username\" is your username. For better data integrity, you want to stop your instance first. This [tutorial](https://docs.aws.amazon.com/toolkit-for-visual-studio/latest/user-guide/tkv-create-ami-from-instance.html) can be helpful. Go to the AMI panel (on the left navigation bar Images -> AMIs). Replace the screenshot below with yours (make sure that the AMI name is fully readable)."
   ]
  },
  {
   "cell_type": "markdown",
   "metadata": {},
   "source": [
    "![](images/q_2_3_1_replace.PNG)"
   ]
  },
  {
   "cell_type": "markdown",
   "metadata": {},
   "source": [
    "#### Exercise 2.3.2\n",
    "rubric={mechanics:10}\n",
    "\n",
    "Let's take your new AMI for a spin. Go back to EC2 panel, and `Terminate` your instance. <span style='font-size:15px;'>&#128546;</span>. Now, start recording the time you will spend. Launch a new instance and get back to the computing environment you had using the AMI you saved (you can right-click the AMI and click on `Launch`). How long did this take? SSH into the instance, open R and see if `tidyverse` is there. Replace my screenshot below with yours. "
   ]
  },
  {
   "cell_type": "code",
   "execution_count": 3,
   "metadata": {},
   "outputs": [
    {
     "data": {
      "text/plain": [
       "1586990992.598239"
      ]
     },
     "execution_count": 3,
     "metadata": {},
     "output_type": "execute_result"
    }
   ],
   "source": [
    "k = time.time()\n",
    "k"
   ]
  },
  {
   "cell_type": "markdown",
   "metadata": {},
   "source": [
    "![](images/q_2_3_2_replace.PNG)"
   ]
  },
  {
   "cell_type": "markdown",
   "metadata": {},
   "source": [
    "### Exercise 2.4 (Optional) - [Interacting with EC2 through AWS CLI](https://docs.aws.amazon.com/cli/latest/userguide/cli-services-ec2.html)\n"
   ]
  },
  {
   "cell_type": "markdown",
   "metadata": {},
   "source": [
    "In this exercise, you are going to interact with AWS EC2 by using AWS CLI."
   ]
  },
  {
   "cell_type": "markdown",
   "metadata": {},
   "source": [
    "#### Exercise 2.4.1 (Optional)\n",
    "rubric={mechanics:1}\n",
    "\n",
    "Create an EC2 instance (just one!) using the `AMI` you created above, but this time use an instance type `t2.micro`. Remember you need to tag both, the EC2 instance and volume.  Give the command you used below. (Hint: see `run-instances` command)."
   ]
  },
  {
   "cell_type": "markdown",
   "metadata": {},
   "source": [
    "```bash\n",
    "# Your command here\n",
    "```"
   ]
  },
  {
   "cell_type": "markdown",
   "metadata": {},
   "source": [
    "#### Exercise 2.4.2 (Optional)\n",
    "rubric={mechanics:1}"
   ]
  },
  {
   "cell_type": "markdown",
   "metadata": {},
   "source": [
    "Stop (but do not terminate) the instance you created in the previous exercise. (Hint: see `stop-instances` command)"
   ]
  },
  {
   "cell_type": "markdown",
   "metadata": {},
   "source": [
    "```bash\n",
    "aws ec2 stop-instances --instance-ids i-00d1433dc48b33e7e\n",
    "```"
   ]
  },
  {
   "cell_type": "markdown",
   "metadata": {},
   "source": [
    "![](images/q_2_4_2.PNG)"
   ]
  },
  {
   "cell_type": "markdown",
   "metadata": {},
   "source": [
    "#### Exercise 2.4.3 (Optional)\n",
    "rubric={mechanics:1}"
   ]
  },
  {
   "cell_type": "markdown",
   "metadata": {},
   "source": [
    "Start back the instance you just stopped.  (Hint: see `start-instances` command)"
   ]
  },
  {
   "cell_type": "markdown",
   "metadata": {},
   "source": [
    "```bash\n",
    "aws ec2 start-instances --instance-ids i-00d1433dc48b33e7e\n",
    "```"
   ]
  },
  {
   "cell_type": "markdown",
   "metadata": {},
   "source": [
    "#### Exercise 2.4.4 (Optional)\n",
    "rubric={mechanics:1}"
   ]
  },
  {
   "cell_type": "markdown",
   "metadata": {},
   "source": [
    "Terminate the instance you created in Exercise 2.3.1."
   ]
  },
  {
   "cell_type": "markdown",
   "metadata": {},
   "source": [
    "```bash\n",
    "aws ec2 terminate-instances --instance-ids i-00d1433dc48b33e7e\n",
    "```"
   ]
  },
  {
   "cell_type": "markdown",
   "metadata": {},
   "source": [
    "### Exercise 2.5 (Optional) - [Interacting with EC2 through AWS Python SDK](https://boto3.amazonaws.com/v1/documentation/api/latest/reference/services/ec2.html)"
   ]
  },
  {
   "cell_type": "markdown",
   "metadata": {},
   "source": [
    "You can also interact with AWS directly from Python, by using the `boto3` library."
   ]
  },
  {
   "cell_type": "markdown",
   "metadata": {},
   "source": [
    "#### Exercise 2.5.1 (Optional)\n",
    "rubric={mechanics:1}\n",
    "\n",
    "Create an EC2 instance (just one!) using the `AMI` you created in Exercise 2.2, but this time use the instance type `t2.micro`. Remember you need to tag both, the EC2 instance and volume. "
   ]
  },
  {
   "cell_type": "markdown",
   "metadata": {},
   "source": [
    "![](images/q_2_5_1.PNG)"
   ]
  },
  {
   "cell_type": "markdown",
   "metadata": {},
   "source": [
    "#### Exercise 2.5.2 (Optional)\n",
    "rubric={mechanics:1}"
   ]
  },
  {
   "cell_type": "markdown",
   "metadata": {},
   "source": [
    "Stop (but do not terminate) the instance you created in the previous exercise. (Hint: see `stop-instances` command)"
   ]
  },
  {
   "cell_type": "markdown",
   "metadata": {},
   "source": [
    "```bash\n",
    "aws ec2 stop-instances --instance-ids i-0515a95e928e70454\n",
    "```"
   ]
  },
  {
   "cell_type": "markdown",
   "metadata": {},
   "source": [
    "#### Exercise 2.5.3 (Optional)\n",
    "rubric={mechanics:1}"
   ]
  },
  {
   "cell_type": "markdown",
   "metadata": {},
   "source": [
    "Start back the instance you just stopped.  (Hint: see `start-instances` command)"
   ]
  },
  {
   "cell_type": "markdown",
   "metadata": {},
   "source": [
    "```bash\n",
    "ubuntu@ip-172-31-15-254aws ec2 start-instances --instance-ids i-00d1433dc48b33e7e\n",
    "```"
   ]
  },
  {
   "cell_type": "markdown",
   "metadata": {},
   "source": [
    "#### Exercise 2.5.4 (Optional)\n",
    "rubric={mechanics:1}"
   ]
  },
  {
   "cell_type": "markdown",
   "metadata": {},
   "source": [
    "Terminate the instance you created in Exercise 2.3.1."
   ]
  },
  {
   "cell_type": "markdown",
   "metadata": {},
   "source": [
    "```bash\n",
    "aws ec2 terminate-instances --instance-ids i-00d1433dc48b33e7e\n",
    "```"
   ]
  },
  {
   "cell_type": "markdown",
   "metadata": {},
   "source": [
    "## Exercise 3 - [Amazon Simple Storage Service (Amazon S3)](https://aws.amazon.com/s3/)\n",
    "\n",
    "Amazon S3 is one of Amazon's Storage Services (AWS has several). What do I mean by storage? It is a place where you can put files in, like your local machine Hard-Drive-Disk (but it is not local anymore - and you pay for it). Have you ever used `Dropbox`? They started by using AWS S3 (I think they migrated by now). Netflix was/is also a customer of AWS S3. Anyway, it is a quite flexible scalable storage. So let's explore a little bit how to create and use AWS S3. \n",
    "\n",
    "In the S3 case, it is just better to work with AWS CLI as opposed to the console. To manage `AWS S3` we will use [aws s3api](https://docs.aws.amazon.com/cli/latest/reference/s3api/index.html). You can also interact with S3 using `boto3`. Check the documentation [here](https://boto3.amazonaws.com/v1/documentation/api/latest/reference/services/s3.html)."
   ]
  },
  {
   "cell_type": "markdown",
   "metadata": {},
   "source": [
    "### Exercise 3.1\n",
    "rubric={mechanics:10}"
   ]
  },
  {
   "cell_type": "markdown",
   "metadata": {},
   "source": [
    "Let's create your first bucket by using AWS Console. These are the requirements:\n",
    "- your bucket must have the following name: `mds-s3-username`, where `username` is a placeholder for your username (e.g., `student0`);\n",
    "- it must be in the same region as your EC2 instance;\n",
    "- make it private;"
   ]
  },
  {
   "cell_type": "markdown",
   "metadata": {},
   "source": [
    "![](images/q3_1.PNG)"
   ]
  },
  {
   "cell_type": "markdown",
   "metadata": {},
   "source": [
    "```bash\n",
    "ubuntu@ip-172-31-15-254:~$ aws s3api create-bucket --bucket mds-s3-student58 --region \n",
    "\n",
    "ca-central-1 --create-bucket-configuration LocationConstraint=ca-central-1\n",
    "{\n",
    "    \"Location\": \"http://mds-s3-student58.s3.amazonaws.com/\"\n",
    "}\n",
    "ubuntu@ip-172-31-15-254:~$   \n",
    "```"
   ]
  },
  {
   "cell_type": "markdown",
   "metadata": {},
   "source": [
    "### Exercise 3.2\n",
    "rubric={mechanics:5}"
   ]
  },
  {
   "cell_type": "markdown",
   "metadata": {},
   "source": [
    "Delete the bucket you created in Exercise 3.1."
   ]
  },
  {
   "cell_type": "markdown",
   "metadata": {},
   "source": [
    "![](images/q3_2.PNG)"
   ]
  },
  {
   "cell_type": "markdown",
   "metadata": {},
   "source": [
    "```bash\n",
    "ubuntu@ip-172-31-15-254:~$ aws s3api delete-bucket --bucket mds-s3-student58 --region ca-central-1\n",
    "```"
   ]
  },
  {
   "cell_type": "markdown",
   "metadata": {},
   "source": [
    "### Exercise 3.3"
   ]
  },
  {
   "cell_type": "markdown",
   "metadata": {},
   "source": [
    "Now that you know how to create and delete a bucket, how about we put files in the bucket?\n",
    "\n",
    "In this exercise, you will replicate an analysis (you choose which one) of a dataset you've already done (and for which you have the necessary scripts ready) on EC2 + S3. Since the instance we created is not that big, use something simple from any of your courses (next week we are going to make much heavier cloud computing). Also, you probably made all your analysis in a Jupyter notebook. This time, make them as Python/R scripts."
   ]
  },
  {
   "cell_type": "markdown",
   "metadata": {},
   "source": [
    "First, start by installing and configuring AWS CLI in your local machine as well (so it will be very easy to send files from your machine to your bucket). Some common commands:\n",
    "\n",
    "- To copy a file to a bucket:\n",
    "```bash\n",
    "aws s3 cp file_name s3://bucket-name\n",
    "```\n",
    "\n",
    "\n",
    "- To remove a file from a bucket\n",
    "```bash\n",
    "aws s3 rm s3://bucket-name/path_to_file\n",
    "```\n",
    "\n",
    "- To list the files in a bucket\n",
    "```bash\n",
    "aws s3 ls s3://bucket-name\n",
    "```\n"
   ]
  },
  {
   "cell_type": "markdown",
   "metadata": {},
   "source": [
    "#### Exercise 3.3.1\n",
    "rubric={mechanics:10}"
   ]
  },
  {
   "cell_type": "markdown",
   "metadata": {},
   "source": [
    "Copy the scripts you want to run in the EC2 to your bucket. Then, make sure they are thereby listing the content of the bucket. If you have a directory structure (and you should, take a look at the `--recursive` flag. Put the commands you used below. Also, replace my screenshot with your own to show the content of your project. "
   ]
  },
  {
   "cell_type": "markdown",
   "metadata": {},
   "source": [
    "```bash\n",
    "C:\\Users\\vigne>aws configure\n",
    "\n",
    "C:\\Users\\vigne\\Documents\\block_6\\DSCI_525\\DSCI_525_lab3_vchand01>aws s3 cp data s3://mds-s3-student58 --recursive\n",
    "```"
   ]
  },
  {
   "cell_type": "markdown",
   "metadata": {},
   "source": [
    "![](images/q_3_3_1.PNG)"
   ]
  },
  {
   "cell_type": "markdown",
   "metadata": {},
   "source": [
    "![](images/q3_3_1_2.PNG)"
   ]
  },
  {
   "cell_type": "markdown",
   "metadata": {},
   "source": [
    "#### Exercise 3.3.2\n",
    "rubric={mechanics:10}"
   ]
  },
  {
   "cell_type": "markdown",
   "metadata": {},
   "source": [
    "Great, now you have your project in the S3 bucket. Congratulations! But how can you edit and run your scripts to update this?\n",
    "Well, the workflow is not exactly as working in your own machine. You can either:\n",
    "\n",
    "1. copy the folder from the bucket to your EC2 instance (see `aws s3 cp` command above);\n",
    "2. sync the folder with a folder in your EC2 instance (see `aws s3 sync` command). \n",
    "\n",
    "I suggest the latter option, as it will transfer only files that have been changed since the last time you synchronized the folders. The copy command will transfer everything. Copy the project from the S3 bucket to the EC2 instance. Then, run your scripts to generate/update your report. Finally, update your bucket with the updated script and reports. "
   ]
  },
  {
   "cell_type": "markdown",
   "metadata": {},
   "source": [
    "```bash\n",
    "ubuntu@ip-172-31-15-254:~$ aws s3 sync s3://mds-s3-student58 my_analysis\n",
    "\n",
    "ubuntu@ip-172-31-15-254:~/my_analysis/demo$ python3 head.py\n",
    "```"
   ]
  },
  {
   "cell_type": "markdown",
   "metadata": {},
   "source": [
    "![](images/q3_3_2.PNG)"
   ]
  },
  {
   "cell_type": "markdown",
   "metadata": {},
   "source": [
    "## Exercise 4 - Removing unused resources\n",
    "rubric={mechanics:5}\n",
    "\n",
    "Almost everything you use/create in AWS you need to pay for it. So it is your job to remove/delete unused resources. It seems like a simple enough task, but people frequently forget to delete the resources they created until they have a huge bill. So always remind yourself to remove unused resources. As an incentive to your memory, I'll be checking any unused resources after the lab deadline. If there are unused resources still active, there will be a 10% penalty in the lab grade. Tick the box below (put an x in the brackets below). "
   ]
  },
  {
   "cell_type": "markdown",
   "metadata": {},
   "source": [
    "- [X] I understand."
   ]
  },
  {
   "cell_type": "markdown",
   "metadata": {},
   "source": [
    "![](images/q4.PNG)"
   ]
  },
  {
   "cell_type": "markdown",
   "metadata": {},
   "source": [
    "## Final Remarks"
   ]
  },
  {
   "cell_type": "markdown",
   "metadata": {},
   "source": [
    "Obviously, we cannot explore everything in one lab. But, AWS has many other relevant services for a data scientist, e.g.:\n",
    "\n",
    "1. [Relational Database Service (RDS)](https://aws.amazon.com/rds/): allows you to deploy a database server quite quickly. (We actually used this service in DSCI 513 after the UBC server).\n",
    "2. [DynamdoDB](https://aws.amazon.com/dynamodb/): a NoSQL database developed by Amazon.\n",
    "3. [Amazon SageMaker](https://aws.amazon.com/sagemaker/): a tool for building and deploying machine learning models.\n",
    "5. [Amazon EMR](https://aws.amazon.com/emr/): a service to process big data.\n",
    "\n",
    "We are going to keep exploring AWS next week. This week was to familiarize you with the basic services and workflows. Next week, you will use the resources you create for computing."
   ]
  }
 ],
 "metadata": {
  "kernelspec": {
   "display_name": "Python 3",
   "language": "python",
   "name": "python3"
  },
  "language_info": {
   "codemirror_mode": {
    "name": "ipython",
    "version": 3
   },
   "file_extension": ".py",
   "mimetype": "text/x-python",
   "name": "python",
   "nbconvert_exporter": "python",
   "pygments_lexer": "ipython3",
   "version": "3.7.6"
  }
 },
 "nbformat": 4,
 "nbformat_minor": 4
}
